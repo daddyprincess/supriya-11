{
 "cells": [
  {
   "cell_type": "markdown",
   "id": "c4686462-c323-4692-98b7-5b2eb8cf920c",
   "metadata": {},
   "source": [
    "## 1.database"
   ]
  },
  {
   "cell_type": "code",
   "execution_count": null,
   "id": "1cde2691-a670-4530-8802-dc4e2e684e03",
   "metadata": {},
   "outputs": [],
   "source": [
    "Python supports various databases like SQLite, MySQL, Oracle, Sybase, PostgreSQL, etc. Python also supports Data\n",
    "Definition Language (DDL), Data Manipulation Language (DML) and Data Query Statements. The Python standard for database \n",
    "interfaces is thePython DB-API."
   ]
  },
  {
   "cell_type": "markdown",
   "id": "b79fc527-2b05-424e-951f-0bdc15482a5c",
   "metadata": {},
   "source": [
    "### diference between sql and no sql"
   ]
  },
  {
   "cell_type": "code",
   "execution_count": null,
   "id": "26f01872-4296-4c9c-902b-a74bf045152d",
   "metadata": {},
   "outputs": [],
   "source": [
    "SQL:\n",
    "-A relational database in nature\t\n",
    "-Modeled based on the concept of “table.”\t\n",
    "-Being relational in nature can be a tough task to scale big data.\n",
    "-A detailed database model needs to be in place before the creation.\t\n",
    "-Avast and expert community is available.\n",
    "-A vast and expert community is available.\n",
    "-Schema is rigid.\n",
    "-Not so flexible design-wise, new column or field insertion affects a design.\t"
   ]
  },
  {
   "cell_type": "code",
   "execution_count": null,
   "id": "05616dca-5c7b-499a-9820-bf3d56141f77",
   "metadata": {},
   "outputs": [],
   "source": [
    "NO SQL:\n",
    "-A non-relational database in nature.\n",
    "-Modeled based on the idea of a document.\n",
    "-Easily scalable big data as compared to relational.\n",
    "-No need to develop an exact database model.\n",
    "-A community is growing rapidly and smaller as compared to MySQL.\n",
    "-Lack of a standard query language.\n",
    "-Dynamic schema is a key benefit of NoSQL.\n",
    "-New columns or fields can be inserted without the existing design."
   ]
  },
  {
   "cell_type": "markdown",
   "id": "47f56d8b-bce3-4d4e-87a3-591b0b45ec0e",
   "metadata": {},
   "source": [
    "## 2.DDL"
   ]
  },
  {
   "cell_type": "code",
   "execution_count": null,
   "id": "010fbb27-903b-46c2-8454-2470eb1f2a23",
   "metadata": {},
   "outputs": [],
   "source": [
    "DDL statements are similar to a computer programming language for defining data structures, especially database schemas.\n",
    "Common examples of DDL statements include CREATE, ALTER, and DROP.\n",
    "Today’s databases incorporate DDL in any formal language that describes data, although it is considered a subset of SQL."
   ]
  },
  {
   "cell_type": "markdown",
   "id": "1d6e64bd-d0f4-475f-a65c-49976b383d0e",
   "metadata": {},
   "source": [
    "### CREATE:"
   ]
  },
  {
   "cell_type": "code",
   "execution_count": null,
   "id": "c11eb860-8a6f-45f5-8b98-84a8a94ec52f",
   "metadata": {},
   "outputs": [],
   "source": [
    "This command is used to create a new table in SQL. The user has to give information like table name, column names, and their \n",
    "datatypes.\n",
    "\n",
    "Syntax –\n",
    "\n",
    "CREATE TABLE table_name\n",
    "(\n",
    "column_1 datatype,\n",
    "column_2 datatype,\n",
    "column_3 datatype,\n",
    "....\n",
    ");\n"
   ]
  },
  {
   "cell_type": "code",
   "execution_count": 10,
   "id": "ebebeafb-ecdb-4d7e-9e83-655303956318",
   "metadata": {},
   "outputs": [
    {
     "ename": "SyntaxError",
     "evalue": "invalid syntax (1270769768.py, line 1)",
     "output_type": "error",
     "traceback": [
      "\u001b[0;36m  Cell \u001b[0;32mIn[10], line 1\u001b[0;36m\u001b[0m\n\u001b[0;31m    CREATE TABLE Student_info\u001b[0m\n\u001b[0m           ^\u001b[0m\n\u001b[0;31mSyntaxError\u001b[0m\u001b[0;31m:\u001b[0m invalid syntax\n"
     ]
    }
   ],
   "source": [
    "CREATE TABLE Student_info\n",
    "(\n",
    "College_Id number(2),\n",
    "College_name varchar(30),\n",
    "Branch varchar(10)\n",
    ");"
   ]
  },
  {
   "cell_type": "markdown",
   "id": "c31bd687-d8b2-4ae8-98cc-9c82e0477b82",
   "metadata": {},
   "source": [
    "### DROP:"
   ]
  },
  {
   "cell_type": "code",
   "execution_count": null,
   "id": "8380b86e-d2e6-42fc-91d9-b4a54a3925b3",
   "metadata": {},
   "outputs": [],
   "source": [
    "This command is used to remove an existing table along with its structure from the Database.\n",
    "\n",
    "Syntax –\n",
    "Syntax to drop an existing table.\n",
    "\n",
    "DROP TABLE table_name;"
   ]
  },
  {
   "cell_type": "code",
   "execution_count": null,
   "id": "c63623d1-eb7f-49fc-88b6-84db85eb73a9",
   "metadata": {},
   "outputs": [],
   "source": [
    "DROP TABLE Student_info;"
   ]
  },
  {
   "cell_type": "markdown",
   "id": "44dcfc29-d6f0-49fc-a0ff-452aa57abfc8",
   "metadata": {},
   "source": [
    "### ALTER:"
   ]
  },
  {
   "cell_type": "code",
   "execution_count": null,
   "id": "a0a0d9f6-1323-4434-a073-106c4f69b2d5",
   "metadata": {},
   "outputs": [],
   "source": [
    "This command is used to add, delete or change columns in the existing table. The user needs to know the existing table name\n",
    "and can do add, delete or modify tasks easily.\n",
    "\n",
    "Syntax –\n",
    "Syntax to add a column to an existing table.\n",
    "\n",
    "ALTER TABLE table_name\n",
    "ADD column_name datatype;\n"
   ]
  },
  {
   "cell_type": "code",
   "execution_count": null,
   "id": "cb1a8506-437e-485d-be9f-6e919dc4a483",
   "metadata": {},
   "outputs": [],
   "source": [
    "ALTER TABLE Student_info\n",
    "ADD CGPA number;"
   ]
  },
  {
   "cell_type": "markdown",
   "id": "8ade5964-2381-4a41-aa75-db992aa6b7da",
   "metadata": {},
   "source": [
    "### TRUNCATE:"
   ]
  },
  {
   "cell_type": "code",
   "execution_count": null,
   "id": "d4c8af39-6166-4f84-851f-ea976d862762",
   "metadata": {},
   "outputs": [],
   "source": [
    "This command is used to remove all rows from the table, but the structure of the table still exists.\n",
    "\n",
    "Syntax –\n",
    "Syntax to remove an existing table.\n",
    "\n",
    "TRUNCATE TABLE table_name;"
   ]
  },
  {
   "cell_type": "code",
   "execution_count": null,
   "id": "06b8a16a-100b-4769-a7e6-6010f2921712",
   "metadata": {},
   "outputs": [],
   "source": [
    "TRUNCATE TABLE Student_info;"
   ]
  },
  {
   "cell_type": "markdown",
   "id": "67f76640-0379-4c02-89ee-76c4f71fc896",
   "metadata": {},
   "source": [
    "## 3.DML"
   ]
  },
  {
   "cell_type": "code",
   "execution_count": null,
   "id": "a41ca0a0-4601-4830-8d8b-a18248f3e53f",
   "metadata": {},
   "outputs": [],
   "source": [
    "The Full Form of DML is Data Manipulation Language. Data Manipulation Language (DML) is a programming language, also a\n",
    "categoryof SQL, applying useful table format and formulas for exchanging information, with the data limited to a point in the\n",
    "database, using SQL."
   ]
  },
  {
   "cell_type": "markdown",
   "id": "d9283a7a-8205-4374-b485-1f1e13ac4884",
   "metadata": {},
   "source": [
    "### INSERT"
   ]
  },
  {
   "cell_type": "code",
   "execution_count": null,
   "id": "2c9e81d2-4efb-490b-beea-cada903a4754",
   "metadata": {},
   "outputs": [],
   "source": [
    "This command is used to enter the information or values into a row. We can connect one or more records to a single table\n",
    "within a repository using this instruction. This is often used to connect an unused tag to the documents.\n",
    "\n",
    "\n",
    "Syntax :\n",
    "\n",
    "INSERT INTO <table_name> ('column_name1' <datatype>, 'column_name2' <datatype>)\n",
    "\n",
    "VALUES ('value1', 'value2'); \n"
   ]
  },
  {
   "cell_type": "code",
   "execution_count": 1,
   "id": "cb3e138b-7110-47c2-9716-ee7030661116",
   "metadata": {},
   "outputs": [
    {
     "ename": "ModuleNotFoundError",
     "evalue": "No module named 'mysql'",
     "output_type": "error",
     "traceback": [
      "\u001b[0;31m---------------------------------------------------------------------------\u001b[0m",
      "\u001b[0;31mModuleNotFoundError\u001b[0m                       Traceback (most recent call last)",
      "Cell \u001b[0;32mIn[1], line 1\u001b[0m\n\u001b[0;32m----> 1\u001b[0m \u001b[38;5;28;01mimport\u001b[39;00m \u001b[38;5;21;01mmysql\u001b[39;00m\u001b[38;5;21;01m.\u001b[39;00m\u001b[38;5;21;01mconnector\u001b[39;00m\n\u001b[1;32m      3\u001b[0m mydb \u001b[38;5;241m=\u001b[39m mysql\u001b[38;5;241m.\u001b[39mconnector\u001b[38;5;241m.\u001b[39mconnect(\n\u001b[1;32m      4\u001b[0m   host\u001b[38;5;241m=\u001b[39m\u001b[38;5;124m\"\u001b[39m\u001b[38;5;124mlocalhost\u001b[39m\u001b[38;5;124m\"\u001b[39m,\n\u001b[1;32m      5\u001b[0m   user\u001b[38;5;241m=\u001b[39m\u001b[38;5;124m\"\u001b[39m\u001b[38;5;124myourusername\u001b[39m\u001b[38;5;124m\"\u001b[39m,\n\u001b[1;32m      6\u001b[0m   password\u001b[38;5;241m=\u001b[39m\u001b[38;5;124m\"\u001b[39m\u001b[38;5;124myourpassword\u001b[39m\u001b[38;5;124m\"\u001b[39m,\n\u001b[1;32m      7\u001b[0m   database\u001b[38;5;241m=\u001b[39m\u001b[38;5;124m\"\u001b[39m\u001b[38;5;124mmydatabase\u001b[39m\u001b[38;5;124m\"\u001b[39m\n\u001b[1;32m      8\u001b[0m )\n\u001b[1;32m     10\u001b[0m mycursor \u001b[38;5;241m=\u001b[39m mydb\u001b[38;5;241m.\u001b[39mcursor()\n",
      "\u001b[0;31mModuleNotFoundError\u001b[0m: No module named 'mysql'"
     ]
    }
   ],
   "source": [
    "import mysql.connector\n",
    "\n",
    "mydb = mysql.connector.connect(\n",
    "  host=\"localhost\",\n",
    "  user=\"yourusername\",\n",
    "  password=\"yourpassword\",\n",
    "  database=\"mydatabase\"\n",
    ")\n",
    "\n",
    "mycursor = mydb.cursor()\n",
    "\n",
    "sql = \"INSERT INTO customers (name, address) VALUES (%s, %s)\"\n",
    "val = (\"Michelle\", \"Blue Village\")\n",
    "mycursor.execute(sql, val)\n",
    "\n",
    "mydb.commit()\n",
    "\n",
    "print(\"1 record inserted, ID:\", mycursor.lastrowid)\n"
   ]
  },
  {
   "cell_type": "markdown",
   "id": "34aa0aa7-b604-441a-9be2-a5ebda041ea2",
   "metadata": {},
   "source": [
    "### UPDATE"
   ]
  },
  {
   "cell_type": "code",
   "execution_count": null,
   "id": "ba22ee8a-3106-4ac7-94c3-20f17a950e3f",
   "metadata": {},
   "outputs": [],
   "source": [
    "This command is used to alter existing table records. Within a table, it modifies data from one or more records. This command\n",
    "is used to alter the data which is already present in a table.\n",
    "\n",
    "\n",
    "Syntax :\n",
    "\n",
    "UPDATE <table_name>\n",
    "\n",
    "SET <column_name = value>\n",
    "\n",
    "WHERE condition; \n"
   ]
  },
  {
   "cell_type": "code",
   "execution_count": 2,
   "id": "fb680cde-16cd-431e-845c-242e67597649",
   "metadata": {},
   "outputs": [
    {
     "ename": "ModuleNotFoundError",
     "evalue": "No module named 'mysql'",
     "output_type": "error",
     "traceback": [
      "\u001b[0;31m---------------------------------------------------------------------------\u001b[0m",
      "\u001b[0;31mModuleNotFoundError\u001b[0m                       Traceback (most recent call last)",
      "Cell \u001b[0;32mIn[2], line 1\u001b[0m\n\u001b[0;32m----> 1\u001b[0m \u001b[38;5;28;01mimport\u001b[39;00m \u001b[38;5;21;01mmysql\u001b[39;00m\u001b[38;5;21;01m.\u001b[39;00m\u001b[38;5;21;01mconnector\u001b[39;00m\n\u001b[1;32m      3\u001b[0m mydb \u001b[38;5;241m=\u001b[39m mysql\u001b[38;5;241m.\u001b[39mconnector\u001b[38;5;241m.\u001b[39mconnect(\n\u001b[1;32m      4\u001b[0m   host\u001b[38;5;241m=\u001b[39m\u001b[38;5;124m\"\u001b[39m\u001b[38;5;124mlocalhost\u001b[39m\u001b[38;5;124m\"\u001b[39m,\n\u001b[1;32m      5\u001b[0m   user\u001b[38;5;241m=\u001b[39m\u001b[38;5;124m\"\u001b[39m\u001b[38;5;124myourusername\u001b[39m\u001b[38;5;124m\"\u001b[39m,\n\u001b[1;32m      6\u001b[0m   password\u001b[38;5;241m=\u001b[39m\u001b[38;5;124m\"\u001b[39m\u001b[38;5;124myourpassword\u001b[39m\u001b[38;5;124m\"\u001b[39m,\n\u001b[1;32m      7\u001b[0m   database\u001b[38;5;241m=\u001b[39m\u001b[38;5;124m\"\u001b[39m\u001b[38;5;124mmydatabase\u001b[39m\u001b[38;5;124m\"\u001b[39m\n\u001b[1;32m      8\u001b[0m )\n\u001b[1;32m     10\u001b[0m mycursor \u001b[38;5;241m=\u001b[39m mydb\u001b[38;5;241m.\u001b[39mcursor()\n",
      "\u001b[0;31mModuleNotFoundError\u001b[0m: No module named 'mysql'"
     ]
    }
   ],
   "source": [
    "import mysql.connector\n",
    "\n",
    "mydb = mysql.connector.connect(\n",
    "  host=\"localhost\",\n",
    "  user=\"yourusername\",\n",
    "  password=\"yourpassword\",\n",
    "  database=\"mydatabase\"\n",
    ")\n",
    "\n",
    "mycursor = mydb.cursor()\n",
    "\n",
    "sql = \"UPDATE customers SET address = 'Canyon 123' WHERE address = 'Valley 345'\"\n",
    "\n",
    "mycursor.execute(sql)\n",
    "\n",
    "mydb.commit()\n",
    "\n",
    "print(mycursor.rowcount, \"record(s) affected\")\n"
   ]
  },
  {
   "cell_type": "markdown",
   "id": "68637250-5be6-49ba-9028-82a0b5524c97",
   "metadata": {},
   "source": [
    "### DELETE"
   ]
  },
  {
   "cell_type": "code",
   "execution_count": null,
   "id": "3fb7947f-5e51-480d-b058-0be0d1608441",
   "metadata": {},
   "outputs": [],
   "source": [
    "It deletes all archives from a table. This command is used to erase some or all of the previous table’s records. If we do\n",
    "notspecify the ‘WHERE’ condition then all the rows would be erased or deleted.\n",
    "\n",
    "\n",
    "Syntax :\n",
    "\n",
    "DELETE FROM <table_name>\n",
    "\n",
    "WHERE <condition>; \n"
   ]
  },
  {
   "cell_type": "code",
   "execution_count": 3,
   "id": "4f19a48d-e241-4050-9428-157aed3e51ba",
   "metadata": {},
   "outputs": [
    {
     "ename": "ModuleNotFoundError",
     "evalue": "No module named 'mysql'",
     "output_type": "error",
     "traceback": [
      "\u001b[0;31m---------------------------------------------------------------------------\u001b[0m",
      "\u001b[0;31mModuleNotFoundError\u001b[0m                       Traceback (most recent call last)",
      "Cell \u001b[0;32mIn[3], line 1\u001b[0m\n\u001b[0;32m----> 1\u001b[0m \u001b[38;5;28;01mimport\u001b[39;00m \u001b[38;5;21;01mmysql\u001b[39;00m\u001b[38;5;21;01m.\u001b[39;00m\u001b[38;5;21;01mconnector\u001b[39;00m\n\u001b[1;32m      3\u001b[0m mydb \u001b[38;5;241m=\u001b[39m mysql\u001b[38;5;241m.\u001b[39mconnector\u001b[38;5;241m.\u001b[39mconnect(\n\u001b[1;32m      4\u001b[0m   host\u001b[38;5;241m=\u001b[39m\u001b[38;5;124m\"\u001b[39m\u001b[38;5;124mlocalhost\u001b[39m\u001b[38;5;124m\"\u001b[39m,\n\u001b[1;32m      5\u001b[0m   user\u001b[38;5;241m=\u001b[39m\u001b[38;5;124m\"\u001b[39m\u001b[38;5;124myourusername\u001b[39m\u001b[38;5;124m\"\u001b[39m,\n\u001b[1;32m      6\u001b[0m   password\u001b[38;5;241m=\u001b[39m\u001b[38;5;124m\"\u001b[39m\u001b[38;5;124myourpassword\u001b[39m\u001b[38;5;124m\"\u001b[39m,\n\u001b[1;32m      7\u001b[0m   database\u001b[38;5;241m=\u001b[39m\u001b[38;5;124m\"\u001b[39m\u001b[38;5;124mmydatabase\u001b[39m\u001b[38;5;124m\"\u001b[39m\n\u001b[1;32m      8\u001b[0m )\n\u001b[1;32m     10\u001b[0m mycursor \u001b[38;5;241m=\u001b[39m mydb\u001b[38;5;241m.\u001b[39mcursor()\n",
      "\u001b[0;31mModuleNotFoundError\u001b[0m: No module named 'mysql'"
     ]
    }
   ],
   "source": [
    "import mysql.connector\n",
    "\n",
    "mydb = mysql.connector.connect(\n",
    "  host=\"localhost\",\n",
    "  user=\"yourusername\",\n",
    "  password=\"yourpassword\",\n",
    "  database=\"mydatabase\"\n",
    ")\n",
    "\n",
    "mycursor = mydb.cursor()\n",
    "\n",
    "sql = \"DELETE FROM customers WHERE address = 'Mountain 21'\"\n",
    "\n",
    "mycursor.execute(sql)\n",
    "\n",
    "mydb.commit()\n",
    "\n",
    "print(mycursor.rowcount, \"record(s) deleted\")\n"
   ]
  },
  {
   "cell_type": "markdown",
   "id": "bdd5f23f-0a21-4777-99a7-f73030670150",
   "metadata": {},
   "source": [
    "## 4.DQL"
   ]
  },
  {
   "cell_type": "code",
   "execution_count": null,
   "id": "f2e79886-a467-4e74-9e3e-01f931243c60",
   "metadata": {},
   "outputs": [],
   "source": [
    "DQL is a portion of a SQL statement that allows you to get and organise data from a database. You can use the SELECT command\n",
    "to extract data from a database in order to perform actions on it. It is the same as the projection operation in relational \n",
    "algebra."
   ]
  },
  {
   "cell_type": "markdown",
   "id": "e6fb9a08-94c2-42c2-9879-32a50fbe5f7e",
   "metadata": {},
   "source": [
    "### SELECT"
   ]
  },
  {
   "cell_type": "code",
   "execution_count": null,
   "id": "033b5b19-8723-433c-8e5b-530b71e62c33",
   "metadata": {},
   "outputs": [],
   "source": [
    "The SELECT Statement in SQL is used to retrieve or fetch data from a database. \n",
    "\n",
    "Syntax:\n",
    "\n",
    "SELECT column1,column2 FROM table_name \n",
    "\n",
    "column1 , column2: names of the fields of the table\n",
    "\n",
    "table_name: from where we want to apply query"
   ]
  },
  {
   "cell_type": "code",
   "execution_count": null,
   "id": "3aa06915-4279-49d0-9172-a247c3634c7a",
   "metadata": {},
   "outputs": [],
   "source": [
    "import mysql.connector\n",
    "\n",
    "mydb = mysql.connector.connect(\n",
    "  host=\"localhost\",\n",
    "  user=\"myusername\",\n",
    "  password=\"mypassword\",\n",
    "  database=\"mydatabase\"\n",
    ")\n",
    "\n",
    "mycursor = mydb.cursor()\n",
    "\n",
    "mycursor.execute(\"SELECT * FROM customers\")\n",
    "\n",
    "myresult = mycursor.fetchall()\n",
    "\n",
    "for x in myresult:\n",
    "    print(x)\n"
   ]
  },
  {
   "cell_type": "markdown",
   "id": "76d50cd5-791a-4e0b-9f4f-dad8e9032bf8",
   "metadata": {},
   "source": [
    "## 5.primary key and foregin key"
   ]
  },
  {
   "cell_type": "markdown",
   "id": "94140384-6d04-45c6-a4ca-bfa8ad703e2e",
   "metadata": {},
   "source": [
    "### primary key"
   ]
  },
  {
   "cell_type": "code",
   "execution_count": null,
   "id": "c76a6fc1-6553-4f65-bb4b-c87a6ac3ef72",
   "metadata": {},
   "outputs": [],
   "source": [
    "The PRIMARY KEY constraint uniquely identifies each record in a table.\n",
    "\n",
    "Primary keys must contain UNIQUE values, and cannot contain NULL values.\n",
    "\n",
    "A table can have only ONE primary key; and in the table, this primary key can consist of single or multiple columns (fields).\n",
    "\n"
   ]
  },
  {
   "cell_type": "markdown",
   "id": "2f9278c4-e9d6-4f92-b691-7e0383b72987",
   "metadata": {},
   "source": [
    "### foregin key"
   ]
  },
  {
   "cell_type": "code",
   "execution_count": null,
   "id": "551fec17-0c54-46e4-bc11-d5aeb3e7f30f",
   "metadata": {},
   "outputs": [],
   "source": [
    "The FOREIGN KEY constraint is used to prevent actions that would destroy links between tables.\n",
    "\n",
    "A FOREIGN KEY is a field (or collection of fields) in one table, that refers to the PRIMARY KEY in another table.\n",
    "\n",
    "The table with the foreign key is called the child table, and the table with the primary key is called the referenced or \n",
    "parent table.\n",
    "\n"
   ]
  },
  {
   "cell_type": "markdown",
   "id": "29a18fec-ec94-4517-8917-322465ad2359",
   "metadata": {},
   "source": [
    "## 6.MY SQL"
   ]
  },
  {
   "cell_type": "markdown",
   "id": "e6420921-724c-4959-a63e-cba81d9022b3",
   "metadata": {},
   "source": [
    "### cursor()"
   ]
  },
  {
   "cell_type": "code",
   "execution_count": null,
   "id": "9a94ebbc-b1cd-4cc6-936a-62419e6cff5f",
   "metadata": {},
   "outputs": [],
   "source": [
    "Allows Python code to execute PostgreSQL command in a database session. Cursors are created by the connection.cursor() method:\n",
    "they are bound to the connection for the entire lifetime and all the commands are executed in the context of the database\n",
    "session wrapped by the connection."
   ]
  },
  {
   "cell_type": "markdown",
   "id": "3a1461e6-a156-421a-85d0-739875f641dd",
   "metadata": {},
   "source": [
    "### execte()"
   ]
  },
  {
   "cell_type": "code",
   "execution_count": null,
   "id": "21f48543-eb82-4d7a-93a9-de274188270a",
   "metadata": {},
   "outputs": [],
   "source": [
    "This method executes the given database operation (query or command). The parameters found in the tuple or dictionary params\n",
    "are bound to the variables in the operation"
   ]
  },
  {
   "cell_type": "code",
   "execution_count": null,
   "id": "afbb98c1-310c-4e33-a6cd-2e972123c6ae",
   "metadata": {},
   "outputs": [
    {
     "ename": "ModuleNotFoundError",
     "evalue": "No module named 'mysql'",
     "output_type": "error",
     "traceback": [
      "\u001b[0;31m---------------------------------------------------------------------------\u001b[0m",
      "\u001b[0;31mModuleNotFoundError\u001b[0m                       Traceback (most recent call last)",
      "Cell \u001b[0;32mIn[13], line 1\u001b[0m\n\u001b[0;32m----> 1\u001b[0m \u001b[38;5;28;01mimport\u001b[39;00m \u001b[38;5;21;01mmysql\u001b[39;00m\u001b[38;5;21;01m.\u001b[39;00m\u001b[38;5;21;01mconnector\u001b[39;00m \u001b[38;5;28;01mas\u001b[39;00m \u001b[38;5;21;01mmysql\u001b[39;00m\n\u001b[1;32m      3\u001b[0m db \u001b[38;5;241m=\u001b[39m mysql\u001b[38;5;241m.\u001b[39mconnect(\n\u001b[1;32m      4\u001b[0m     host \u001b[38;5;241m=\u001b[39m \u001b[38;5;124m\"\u001b[39m\u001b[38;5;124mlocalhost\u001b[39m\u001b[38;5;124m\"\u001b[39m,\n\u001b[1;32m      5\u001b[0m     user \u001b[38;5;241m=\u001b[39m \u001b[38;5;124m\"\u001b[39m\u001b[38;5;124myourusername\u001b[39m\u001b[38;5;124m\"\u001b[39m,\n\u001b[1;32m      6\u001b[0m     passwd \u001b[38;5;241m=\u001b[39m \u001b[38;5;124m\"\u001b[39m\u001b[38;5;124myourpassword\u001b[39m\u001b[38;5;124m\"\u001b[39m,\n\u001b[1;32m      7\u001b[0m     database \u001b[38;5;241m=\u001b[39m \u001b[38;5;124m\"\u001b[39m\u001b[38;5;124mstudytonight\u001b[39m\u001b[38;5;124m\"\u001b[39m\n\u001b[1;32m      8\u001b[0m )\n\u001b[1;32m     10\u001b[0m cursor \u001b[38;5;241m=\u001b[39m db\u001b[38;5;241m.\u001b[39mcursor()\n",
      "\u001b[0;31mModuleNotFoundError\u001b[0m: No module named 'mysql'"
     ]
    }
   ],
   "source": [
    "import mysql.connector as mysql\n",
    "\n",
    "db = mysql.connect(\n",
    "    host = \"localhost\",\n",
    "    user = \"yourusername\",\n",
    "    passwd = \"yourpassword\",\n",
    "    database = \"studytonight\"\n",
    ")\n",
    "\n",
    "cursor = db.cursor()\n",
    "## defining the Query\n",
    "query = \"SELECT * FROM students ORDER BY name\"\n",
    "\n",
    "## getting records from the table\n",
    "cursor.execute(query)\n",
    "\n",
    "## fetching all records from the 'cursor' object\n",
    "records = cursor.fetchall()\n",
    "\n",
    "## Showing the data\n",
    "for record in records:\n",
    "    print(record)"
   ]
  },
  {
   "cell_type": "markdown",
   "id": "3ec2bcef-b67a-4b49-8806-4cf9121d17b5",
   "metadata": {},
   "source": [
    "## 7.order of execution"
   ]
  },
  {
   "cell_type": "code",
   "execution_count": null,
   "id": "f4ee8b4e-c073-4ea7-b3a7-7cc13d60fbaf",
   "metadata": {},
   "outputs": [],
   "source": [
    "In an sql query,the order of execution of clauses is generally as:\n",
    "    FROM\n",
    "    WHERE\n",
    "    GROUP BY\n",
    "    HAVING\n",
    "    SELECT\n",
    "    DITINCT\n",
    "    ORDER BY\n",
    "    LIMIT/OFFSET\n",
    "note that some clauses such as GROUPBY,HAVING,DISTINCT,andORDER BY, are optional and may not be present in every query.\n",
    "Additionally, there may be variations in the order of execution based on the specific database system or query optimizer used  "
   ]
  }
 ],
 "metadata": {
  "kernelspec": {
   "display_name": "Python 3 (ipykernel)",
   "language": "python",
   "name": "python3"
  },
  "language_info": {
   "codemirror_mode": {
    "name": "ipython",
    "version": 3
   },
   "file_extension": ".py",
   "mimetype": "text/x-python",
   "name": "python",
   "nbconvert_exporter": "python",
   "pygments_lexer": "ipython3",
   "version": "3.10.8"
  }
 },
 "nbformat": 4,
 "nbformat_minor": 5
}
